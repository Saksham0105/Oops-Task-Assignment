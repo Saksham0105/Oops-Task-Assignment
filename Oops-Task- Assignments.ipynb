{
 "cells": [
  {
   "cell_type": "markdown",
   "id": "58b723a6",
   "metadata": {},
   "source": [
    "   # Oops Assignment"
   ]
  },
  {
   "cell_type": "markdown",
   "id": "faf1bc36",
   "metadata": {},
   "source": [
    "Q1, Create a vehicle class with an init method having instance variables as name_of_vehicle, max_speed\n",
    "and average_of_vehicle. "
   ]
  },
  {
   "cell_type": "markdown",
   "id": "31b1ad24",
   "metadata": {},
   "source": [
    "Ans"
   ]
  },
  {
   "cell_type": "code",
   "execution_count": 1,
   "id": "6110cb1c",
   "metadata": {},
   "outputs": [],
   "source": [
    "class Vehicle :\n",
    "    def __init__(self,name_of_vehicle, max_speed, average_of_vehicle):\n",
    "        self.name_of_vehicle = name_of_vehicle \n",
    "        self.max_speed = max_speed \n",
    "        self.average_of_vehicle = average_of_vehicle"
   ]
  },
  {
   "cell_type": "code",
   "execution_count": 2,
   "id": "e708a093",
   "metadata": {},
   "outputs": [],
   "source": [
    "obj_vehicle = Vehicle(\"Suzuki\",100,20)"
   ]
  },
  {
   "cell_type": "code",
   "execution_count": 3,
   "id": "1b4737f6",
   "metadata": {},
   "outputs": [
    {
     "data": {
      "text/plain": [
       "'Suzuki'"
      ]
     },
     "execution_count": 3,
     "metadata": {},
     "output_type": "execute_result"
    }
   ],
   "source": [
    "obj_vehicle.name_of_vehicle"
   ]
  },
  {
   "cell_type": "code",
   "execution_count": 4,
   "id": "754eef92",
   "metadata": {},
   "outputs": [
    {
     "data": {
      "text/plain": [
       "100"
      ]
     },
     "execution_count": 4,
     "metadata": {},
     "output_type": "execute_result"
    }
   ],
   "source": [
    "obj_vehicle.max_speed"
   ]
  },
  {
   "cell_type": "code",
   "execution_count": 5,
   "id": "544c37b9",
   "metadata": {},
   "outputs": [
    {
     "data": {
      "text/plain": [
       "20"
      ]
     },
     "execution_count": 5,
     "metadata": {},
     "output_type": "execute_result"
    }
   ],
   "source": [
    "obj_vehicle.average_of_vehicle"
   ]
  },
  {
   "cell_type": "markdown",
   "id": "266a92c4",
   "metadata": {},
   "source": [
    "Q2.  Create a child class car from the vehicle class created in Que 1, which will inherit the vehicle class.\n",
    "Create a method named seating_capacity which takes capacity as an argument and returns the name of\n",
    "the vehicle and its seating capacity."
   ]
  },
  {
   "cell_type": "markdown",
   "id": "c65b1d13",
   "metadata": {},
   "source": [
    "Ans"
   ]
  },
  {
   "cell_type": "code",
   "execution_count": 6,
   "id": "bd51c2da",
   "metadata": {},
   "outputs": [],
   "source": [
    "class Vehicle :\n",
    "    def __init__(self,name_of_vehicle, max_speed, average_of_vehicle):\n",
    "        self.name_of_vehicle = name_of_vehicle \n",
    "        self.max_speed = max_speed \n",
    "        self.average_of_vehicle = average_of_vehicle\n",
    "\n",
    "class Car(Vehicle):\n",
    "    def seating_capacity(self,capacity):\n",
    "        return f\"{self.name_of_vehicle} has a seating capacity of {capacity} people.\""
   ]
  },
  {
   "cell_type": "code",
   "execution_count": 7,
   "id": "640bddd8",
   "metadata": {},
   "outputs": [],
   "source": [
    "Car_obj = Car(\"Suzuki\",100,20)"
   ]
  },
  {
   "cell_type": "code",
   "execution_count": 8,
   "id": "6ccdc360",
   "metadata": {},
   "outputs": [
    {
     "data": {
      "text/plain": [
       "'Suzuki has a seating capacity of 4 people.'"
      ]
     },
     "execution_count": 8,
     "metadata": {},
     "output_type": "execute_result"
    }
   ],
   "source": [
    "Car_obj.seating_capacity(4)"
   ]
  },
  {
   "cell_type": "markdown",
   "id": "8c217462",
   "metadata": {},
   "source": [
    "Q3. What is multiple inheritance? Write a python code to demonstrate multiple inheritance."
   ]
  },
  {
   "cell_type": "markdown",
   "id": "84699b25",
   "metadata": {},
   "source": [
    "Ans"
   ]
  },
  {
   "cell_type": "markdown",
   "id": "a504b844",
   "metadata": {},
   "source": [
    "Multiple inheritance is a feature in object-oriented programming languages where a class can inherit attributes and methods from more than one parent class. This allows a child class to inherit features from multiple classes. However, multiple inheritance can lead to complications when there are conflicts in method names or attribute access."
   ]
  },
  {
   "cell_type": "code",
   "execution_count": 9,
   "id": "85fbe147",
   "metadata": {},
   "outputs": [],
   "source": [
    "class father:\n",
    "    def father_name(self):\n",
    "        return \"Father's name is Mr. Ashish Jain\""
   ]
  },
  {
   "cell_type": "code",
   "execution_count": 10,
   "id": "a08fd750",
   "metadata": {},
   "outputs": [],
   "source": [
    "class mother :\n",
    "    def mother_name(self):\n",
    "        return \"Mother's name is Mrs Madhuri Jain.\""
   ]
  },
  {
   "cell_type": "code",
   "execution_count": 11,
   "id": "0c66d87e",
   "metadata": {},
   "outputs": [],
   "source": [
    "class child(father, mother):\n",
    "    def child_name(self):\n",
    "        return \"Child name is Saksham jain\""
   ]
  },
  {
   "cell_type": "code",
   "execution_count": 12,
   "id": "d07412af",
   "metadata": {},
   "outputs": [],
   "source": [
    "obj_child =child()"
   ]
  },
  {
   "cell_type": "code",
   "execution_count": 13,
   "id": "eaf01376",
   "metadata": {},
   "outputs": [
    {
     "data": {
      "text/plain": [
       "'Child name is Saksham jain'"
      ]
     },
     "execution_count": 13,
     "metadata": {},
     "output_type": "execute_result"
    }
   ],
   "source": [
    "obj_child.child_name()"
   ]
  },
  {
   "cell_type": "code",
   "execution_count": 14,
   "id": "f00e006a",
   "metadata": {},
   "outputs": [
    {
     "data": {
      "text/plain": [
       "\"Mother's name is Mrs Madhuri Jain.\""
      ]
     },
     "execution_count": 14,
     "metadata": {},
     "output_type": "execute_result"
    }
   ],
   "source": [
    "obj_child.mother_name()"
   ]
  },
  {
   "cell_type": "code",
   "execution_count": 15,
   "id": "f6df6608",
   "metadata": {},
   "outputs": [
    {
     "data": {
      "text/plain": [
       "\"Father's name is Mr. Ashish Jain\""
      ]
     },
     "execution_count": 15,
     "metadata": {},
     "output_type": "execute_result"
    }
   ],
   "source": [
    "obj_child.father_name()"
   ]
  },
  {
   "cell_type": "markdown",
   "id": "94e07b0e",
   "metadata": {},
   "source": [
    "Q4. What are getter and setter in python? Create a class and create a getter and a setter method in this\n",
    "class."
   ]
  },
  {
   "cell_type": "markdown",
   "id": "dfbfdfc5",
   "metadata": {},
   "source": [
    "Ans"
   ]
  },
  {
   "cell_type": "markdown",
   "id": "48dc9433",
   "metadata": {},
   "source": [
    "In Python, getters and setters are methods used to control access to the attributes (data members) of a class. They allow you to encapsulate the access and modification of attributes, enabling you to apply validation, restrictions, or additional logic whenever an attribute is accessed or modified."
   ]
  },
  {
   "cell_type": "code",
   "execution_count": 16,
   "id": "0ddb467b",
   "metadata": {},
   "outputs": [],
   "source": [
    "class car:\n",
    "    def __init__(self,year,make,model,speed):\n",
    "        self.__year = year           ###\n",
    "        self.__make = make\n",
    "        self.__model = model\n",
    "        self.__speed = 0\n",
    "    def set_speed(self,speed):\n",
    "        self.__speed = 0 if speed < 0 else speed\n",
    "    def get_speed(self):\n",
    "        return self.__speed"
   ]
  },
  {
   "cell_type": "code",
   "execution_count": 17,
   "id": "7567eee1",
   "metadata": {},
   "outputs": [],
   "source": [
    "c = car(2012,\"Suzuki\",\"Aulto 800\",60)"
   ]
  },
  {
   "cell_type": "code",
   "execution_count": 18,
   "id": "b26f07b9",
   "metadata": {},
   "outputs": [],
   "source": [
    "c.set_speed(60)"
   ]
  },
  {
   "cell_type": "code",
   "execution_count": 19,
   "id": "228e1e6f",
   "metadata": {},
   "outputs": [
    {
     "data": {
      "text/plain": [
       "60"
      ]
     },
     "execution_count": 19,
     "metadata": {},
     "output_type": "execute_result"
    }
   ],
   "source": [
    "c.get_speed()"
   ]
  },
  {
   "cell_type": "markdown",
   "id": "75b754d8",
   "metadata": {},
   "source": [
    "Q5.What is method overriding in python? Write a python code to demonstrate method overriding."
   ]
  },
  {
   "cell_type": "markdown",
   "id": "85442f74",
   "metadata": {},
   "source": [
    "Ans"
   ]
  },
  {
   "cell_type": "markdown",
   "id": "820295af",
   "metadata": {},
   "source": [
    "Method overriding is a concept in object-oriented programming where a subclass provides a specific implementation of a method that is already defined in its superclass. This allows the subclass to provide its own version of the method, which is used instead of the one in the superclass when the method is called on an instance of the subclass."
   ]
  },
  {
   "cell_type": "code",
   "execution_count": 20,
   "id": "edc43664",
   "metadata": {},
   "outputs": [],
   "source": [
    "class Animal:\n",
    "    def speak(self):\n",
    "        return\"Animal speaks\"\n",
    "\n",
    "class Dog(Animal):\n",
    "    def speak(self):\n",
    "        return\"Bhaww Bhaww\"\n",
    "\n",
    "class Cat(Animal):\n",
    "    def speak(self):\n",
    "        return\"meows meows\""
   ]
  },
  {
   "cell_type": "code",
   "execution_count": 21,
   "id": "79dcb5dd",
   "metadata": {},
   "outputs": [],
   "source": [
    "dog = Dog()"
   ]
  },
  {
   "cell_type": "code",
   "execution_count": 22,
   "id": "a878208d",
   "metadata": {},
   "outputs": [],
   "source": [
    "cat = Cat()"
   ]
  },
  {
   "cell_type": "code",
   "execution_count": 23,
   "id": "97205467",
   "metadata": {},
   "outputs": [
    {
     "data": {
      "text/plain": [
       "'Bhaww Bhaww'"
      ]
     },
     "execution_count": 23,
     "metadata": {},
     "output_type": "execute_result"
    }
   ],
   "source": [
    "dog.speak()"
   ]
  },
  {
   "cell_type": "code",
   "execution_count": 24,
   "id": "df499df6",
   "metadata": {},
   "outputs": [
    {
     "data": {
      "text/plain": [
       "'meows meows'"
      ]
     },
     "execution_count": 24,
     "metadata": {},
     "output_type": "execute_result"
    }
   ],
   "source": [
    "cat.speak()"
   ]
  }
 ],
 "metadata": {
  "kernelspec": {
   "display_name": "Python 3 (ipykernel)",
   "language": "python",
   "name": "python3"
  },
  "language_info": {
   "codemirror_mode": {
    "name": "ipython",
    "version": 3
   },
   "file_extension": ".py",
   "mimetype": "text/x-python",
   "name": "python",
   "nbconvert_exporter": "python",
   "pygments_lexer": "ipython3",
   "version": "3.11.3"
  }
 },
 "nbformat": 4,
 "nbformat_minor": 5
}
